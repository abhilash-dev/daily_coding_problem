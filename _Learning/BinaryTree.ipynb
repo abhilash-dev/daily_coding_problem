{
 "cells": [
  {
   "cell_type": "markdown",
   "metadata": {
    "collapsed": true
   },
   "source": [
    "## Binary Tree\n",
    "- A tree whose elements have **atmost 2 children** is called a Binary Tree and because of this we name the children as left & right child respectively.\n",
    "\n",
    "- Each **node** of a binary tree contains following parts  \n",
    "    - Data\n",
    "    - pointer to the left child\n",
    "    - pointer to the right child"
   ]
  },
  {
   "cell_type": "markdown",
   "metadata": {},
   "source": [
    "### The following is a simple representation of a Node in a binary tree"
   ]
  },
  {
   "cell_type": "code",
   "execution_count": 27,
   "metadata": {},
   "outputs": [],
   "source": [
    "class Node:\n",
    "    def __init__(self,val):\n",
    "        self.val = val\n",
    "        self.left = None\n",
    "        self.right = None"
   ]
  },
  {
   "cell_type": "markdown",
   "metadata": {},
   "source": [
    "- Trees are **heirarchial** data structures unlike Arrays, Queues, LinkedList etc\n",
    "- The topmost node in a tree is called **root**\n",
    "- The elements that are directly under an element is called it's **children** and the element that is directly above it is called **parent**\n",
    "- Finally, elements with no children are called **leaves**"
   ]
  },
  {
   "cell_type": "markdown",
   "metadata": {},
   "source": [
    "### Why use trees?\n",
    "- The store information that naturally forms an hierarchy  \n",
    "    **Ex:** The file system on a computer\n",
    "- Trees(with some ordering ex: BST) gives **moderate access/search** (Faster than linkedlists but slower than arrays)\n",
    "- Trees provide **moderate insertion/deletion** (Faster than arrays but slower than unordered linked-lists)\n",
    "- Trees have **no upper bound on the no. of nodes** in it (like linked-lists and unlike arrays)"
   ]
  },
  {
   "cell_type": "markdown",
   "metadata": {},
   "source": [
    "### Creating a simple binary tree with 4 nodes"
   ]
  },
  {
   "cell_type": "code",
   "execution_count": 28,
   "metadata": {},
   "outputs": [],
   "source": [
    "root = Node(1)\n",
    "root.left = Node(2)\n",
    "root.right = Node(3)\n",
    "root.left.left = Node(4)"
   ]
  },
  {
   "cell_type": "markdown",
   "metadata": {},
   "source": [
    "### Traversing a binary tree\n",
    "\n",
    "**1. Depth-First traversal** (Time: O(n), Space: O(n) / O(1) depending on whether the call stack size is considered or not)\n",
    "- Inorder traversal (Left, root, right)\n",
    "- pre-order trvaresal (root, left, right\n",
    "- post-order traversal (left, right, root)\n",
    "\n",
    "**2. Breadth-First traversal / Level-Order traversal**\n",
    "- breadth-first"
   ]
  },
  {
   "cell_type": "markdown",
   "metadata": {},
   "source": [
    "#### Inorder Traversal (L-V-R)\n",
    "- Traverse the left-subtree \n",
    "- visit the root\n",
    "- Traverse the right-subtree"
   ]
  },
  {
   "cell_type": "code",
   "execution_count": 29,
   "metadata": {},
   "outputs": [],
   "source": [
    "# print inorder traversal of a binary tree\n",
    "def inorder(root):\n",
    "    # check if the root is not equal to null\n",
    "    if root:\n",
    "        #traversing the left-subtree\n",
    "        inorder(root.left)\n",
    "        # visit the node\n",
    "        print(root.val)\n",
    "        #traverse the right-subtree\n",
    "        inorder(root.right)"
   ]
  },
  {
   "cell_type": "code",
   "execution_count": 30,
   "metadata": {},
   "outputs": [
    {
     "name": "stdout",
     "output_type": "stream",
     "text": [
      "4\n",
      "2\n",
      "1\n",
      "3\n"
     ]
    }
   ],
   "source": [
    "inorder(root)"
   ]
  },
  {
   "cell_type": "markdown",
   "metadata": {},
   "source": [
    "### Applications:\n",
    "- The inorder traversal of a **BST** will result in **ascending order**"
   ]
  },
  {
   "cell_type": "markdown",
   "metadata": {},
   "source": [
    "#### Pre-order traversal (V-L-R)\n",
    "- visit the node\n",
    "- traverse the left-subtree\n",
    "- traverse the right-subtree"
   ]
  },
  {
   "cell_type": "code",
   "execution_count": 31,
   "metadata": {},
   "outputs": [],
   "source": [
    "# print the pre-order traversal of the binary tree\n",
    "def preorder(root):\n",
    "    #check if the root is not equal to null\n",
    "    if root:\n",
    "        # visit the node\n",
    "        print(root.val)\n",
    "        # traverse the left-subtree\n",
    "        preorder(root.left)\n",
    "        # traverse the right-subtree\n",
    "        preorder(root.right)"
   ]
  },
  {
   "cell_type": "code",
   "execution_count": 32,
   "metadata": {},
   "outputs": [
    {
     "name": "stdout",
     "output_type": "stream",
     "text": [
      "1\n",
      "2\n",
      "4\n",
      "3\n"
     ]
    }
   ],
   "source": [
    "preorder(root)"
   ]
  },
  {
   "cell_type": "markdown",
   "metadata": {},
   "source": [
    "#### Applications\n",
    "- Used to create a copy of the tree (**serialization**)\n",
    "- Used to get the prefix notation of an expression tree"
   ]
  },
  {
   "cell_type": "markdown",
   "metadata": {},
   "source": [
    "#### Post-order traversal\n",
    "- travrese the left-subtree\n",
    "- traverse the right-subtree\n",
    "- visit the node"
   ]
  },
  {
   "cell_type": "code",
   "execution_count": 33,
   "metadata": {},
   "outputs": [],
   "source": [
    "# print the post-order traversal of the binary tree\n",
    "def postorder(root):\n",
    "    # check if the root is not equal to null\n",
    "    if root:\n",
    "        # traverse the left-subtree\n",
    "        postorder(root.left)\n",
    "        #traverse the right-subtree\n",
    "        postorder(root.right)\n",
    "        # visit the node\n",
    "        print(root.val)"
   ]
  },
  {
   "cell_type": "code",
   "execution_count": 34,
   "metadata": {},
   "outputs": [
    {
     "name": "stdout",
     "output_type": "stream",
     "text": [
      "4\n",
      "2\n",
      "3\n",
      "1\n"
     ]
    }
   ],
   "source": [
    "postorder(root)"
   ]
  },
  {
   "cell_type": "markdown",
   "metadata": {},
   "source": [
    "#### Applications\n",
    "- used to delete the tree\n",
    "- used to get the post-fix expression of an expression tree"
   ]
  },
  {
   "cell_type": "markdown",
   "metadata": {},
   "source": [
    "### Level Order traversal / Breadth first traversal [ Time: O(n) ]\n",
    "- Create an empty queue\n",
    "- add root node to it\n",
    "- loop until the queue is non-empty\n",
    "    - pop the element \n",
    "    - print it's value\n",
    "    - add it's left child to the queue if it exists\n",
    "    - add its right child to the queue if it exists"
   ]
  },
  {
   "cell_type": "code",
   "execution_count": 35,
   "metadata": {},
   "outputs": [],
   "source": [
    "import queue\n",
    "# print BFS / level order traversal of the tree\n",
    "def level_order_traversal(root):\n",
    "    # check if the root node is not null\n",
    "    if root:\n",
    "        # create an empty queue\n",
    "        q = queue.deque()\n",
    "        \n",
    "        # add root node to the queue\n",
    "        q.appendleft(root)\n",
    "        \n",
    "        #loop until the queue is not empty\n",
    "        while q:\n",
    "            # pop the element\n",
    "            e = q.pop()\n",
    "            # print the node's value\n",
    "            print(e.val)\n",
    "            \n",
    "            # if the left child exists, then add it to the queue\n",
    "            if e.left:\n",
    "                q.appendleft(e.left)\n",
    "            # if the right child exists, then add it to the queue\n",
    "            if e.right:\n",
    "                q.appendleft(e.right)\n",
    "    "
   ]
  },
  {
   "cell_type": "code",
   "execution_count": 36,
   "metadata": {},
   "outputs": [
    {
     "name": "stdout",
     "output_type": "stream",
     "text": [
      "1\n",
      "2\n",
      "3\n",
      "4\n"
     ]
    }
   ],
   "source": [
    "level_order_traversal(root)"
   ]
  },
  {
   "cell_type": "markdown",
   "metadata": {},
   "source": [
    "### Properties of Binary Tree\n",
    "1. The maximum nodes at level **l** of a binary tree is $2^{l-1}$\n",
    "    - **level** of a tree is the no. of nodes on the path from the root(inclusive) to the node\n",
    "    - Ex: The level of root node is **1**\n",
    "2. Maximum no. of nodes in binary tree of height **h** is $2^h-1$\n",
    "    - **height** of a tree is the maximum no. of nodes on the path from the root to node (both inclusive)\n",
    "    - Ex: The height of a tree with just one node is **1**\n",
    "3. In a binary tree with **N** nodes, min. possible height or min. no. of levels is $log_2{(N+1)}$\n",
    "4. A binary tree with **L** leaves has at least $log_2L + 1$ levels\n",
    "5. In a binary tree where every node has either 0 or 2 children, the no. of leaf nodes is always 1 more than the no. of the no. of nodes with 2 children"
   ]
  },
  {
   "cell_type": "markdown",
   "metadata": {},
   "source": [
    "**Credits - Most of the notes / code is borrowed from https://www.geeksforgeeks.org/binary-tree-data-structure/**"
   ]
  }
 ],
 "metadata": {
  "kernelspec": {
   "display_name": "Python 3",
   "language": "python",
   "name": "python3"
  },
  "language_info": {
   "codemirror_mode": {
    "name": "ipython",
    "version": 3
   },
   "file_extension": ".py",
   "mimetype": "text/x-python",
   "name": "python",
   "nbconvert_exporter": "python",
   "pygments_lexer": "ipython3",
   "version": "3.7.1"
  }
 },
 "nbformat": 4,
 "nbformat_minor": 1
}
